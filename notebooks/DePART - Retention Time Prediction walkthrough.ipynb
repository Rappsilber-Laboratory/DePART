{
 "cells": [
  {
   "cell_type": "markdown",
   "metadata": {},
   "source": [
    "# Tutorial: Running DePART within Python for RT prediction #\n",
    "\n",
    "DePART was developed for the prediction of \"retention times\" from hSAX chromatography. However, the feature set and neural net can easily be transformed for RP prediction.\n",
    "\n",
    "In this tutorial we will cover the basic steps for RP RT prediction."
   ]
  },
  {
   "cell_type": "code",
   "execution_count": 8,
   "metadata": {},
   "outputs": [],
   "source": [
    "#necessary imports\n",
    "import DePART.preprocessing.FeatureFactory as FF\n",
    "import DePART.preprocessing.PrepFactory as PF\n",
    "import DePART.reader.ReaderFactory as RF\n",
    "import DePART.learning.models as LM\n",
    "import DePART.learning.processing as LP\n",
    "\n",
    "from sklearn.preprocessing import LabelEncoder\n",
    "from sklearn.metrics import mean_absolute_error, auc, mean_squared_error, r2_score, f1_score, accuracy_score\n",
    "\n",
    "from pyteomics import achrom\n",
    "import numpy as np\n",
    "import os\n",
    "import pandas as pd\n",
    "import sys\n",
    "import seaborn as sns\n",
    "import matplotlib.pyplot as plt\n",
    "from keras.utils import np_utils\n",
    "\n",
    "#set a seed\n",
    "np.random.seed(42)"
   ]
  },
  {
   "cell_type": "markdown",
   "metadata": {},
   "source": [
    "## 1. Getting data from MaxQuant "
   ]
  },
  {
   "cell_type": "code",
   "execution_count": 2,
   "metadata": {},
   "outputs": [
    {
     "name": "stdout",
     "output_type": "stream",
     "text": [
      "(337832, 60)\n"
     ]
    },
    {
     "name": "stderr",
     "output_type": "stream",
     "text": [
      "C:\\ProgramData\\Anaconda3\\lib\\site-packages\\numpy\\core\\fromnumeric.py:52: FutureWarning: 'argmax' is deprecated. Use 'idxmax' instead. The behavior of 'argmax' will be corrected to return the positional maximum in the future. Use 'series.values.argmax' to get the position of the maximum now.\n",
      "  return getattr(obj, method)(*args, **kwds)\n"
     ]
    },
    {
     "name": "stdout",
     "output_type": "stream",
     "text": [
      "NRows BEFORE min obs filter: 59723\n",
      "NRows AFTER min obs filter: 59297\n"
     ]
    }
   ],
   "source": [
    "#options\n",
    "min_obs = 300\n",
    "infile = \"C:\\\\Users\\\\hanjo\\\\ML\\\\DePART_New\\\\data\\\\evidence_SAX_Trost.txt\"\n",
    "df_evidence = RF.MaxQuant_Reader(infile)\n",
    "print (df_evidence.shape)\n",
    "\n",
    "#select most intense\n",
    "df_filter = PF.filter_low_int_ids(df_evidence)\n",
    "\n",
    "#minimum obs filter per fraction\n",
    "df_filter = PF.filter_obs(df_filter, min_obs=min_obs)\n",
    "\n",
    "#get a minimal df for processing\n",
    "df_meta, df = PF.to_minimal_df(df_filter)"
   ]
  },
  {
   "cell_type": "markdown",
   "metadata": {},
   "source": [
    "## 2. Generating the default list of features used by DePART"
   ]
  },
  {
   "cell_type": "code",
   "execution_count": 4,
   "metadata": {},
   "outputs": [
    {
     "name": "stderr",
     "output_type": "stream",
     "text": [
      "C:\\ProgramData\\Anaconda3\\lib\\site-packages\\DePART\\preprocessing\\FeatureFactory.py:60: SettingWithCopyWarning: \n",
      "A value is trying to be set on a copy of a slice from a DataFrame.\n",
      "Try using .loc[row_indexer,col_indexer] = value instead\n",
      "\n",
      "See the caveats in the documentation: http://pandas.pydata.org/pandas-docs/stable/indexing.html#indexing-view-versus-copy\n",
      "  df[\"Sequence\"] = df[\"Sequence\"].apply(simply_alphabet).values\n",
      "C:\\ProgramData\\Anaconda3\\lib\\site-packages\\DePART\\preprocessing\\FeatureFactory.py:503: FutureWarning: set_value is deprecated and will be removed in a future release. Please use .at[] or .iat[] accessors instead\n",
      "  count_df.set_value(ii, nterm, count_df.loc[ii][nterm]+1)\n",
      "C:\\ProgramData\\Anaconda3\\lib\\site-packages\\DePART\\preprocessing\\FeatureFactory.py:510: FutureWarning: set_value is deprecated and will be removed in a future release. Please use .at[] or .iat[] accessors instead\n",
      "  count_df.set_value(ii, cterm, count_df.loc[ii][cterm]+1)\n"
     ]
    }
   ],
   "source": [
    "#generate features\n",
    "Generator = FF.FeatureGenerator()\n",
    "ff_df = Generator.create_all_features(df)\n"
   ]
  },
  {
   "cell_type": "markdown",
   "metadata": {},
   "source": [
    "## 3. Fitting the Feed Forward Neural Net (FNN) to the Training data"
   ]
  },
  {
   "cell_type": "code",
   "execution_count": 48,
   "metadata": {},
   "outputs": [
    {
     "name": "stdout",
     "output_type": "stream",
     "text": [
      "_________________________________________________________________\n",
      "Layer (type)                 Output Shape              Param #   \n",
      "=================================================================\n",
      "dense_21 (Dense)             (None, 50)                10750     \n",
      "_________________________________________________________________\n",
      "dropout_16 (Dropout)         (None, 50)                0         \n",
      "_________________________________________________________________\n",
      "dense_22 (Dense)             (None, 40)                2040      \n",
      "_________________________________________________________________\n",
      "dropout_17 (Dropout)         (None, 40)                0         \n",
      "_________________________________________________________________\n",
      "dense_23 (Dense)             (None, 35)                1435      \n",
      "_________________________________________________________________\n",
      "dropout_18 (Dropout)         (None, 35)                0         \n",
      "_________________________________________________________________\n",
      "dense_24 (Dense)             (None, 1)                 36        \n",
      "=================================================================\n",
      "Total params: 14,261\n",
      "Trainable params: 14,261\n",
      "Non-trainable params: 0\n",
      "_________________________________________________________________\n",
      "None\n",
      "Epoch 1/150\n",
      "44472/44472 [==============================] - 1s 32us/step - loss: 28535.3648 - mean_squared_error: 28535.3648\n",
      "Epoch 2/150\n",
      "44472/44472 [==============================] - 1s 20us/step - loss: 28535.3647 - mean_squared_error: 28535.3647\n",
      "Epoch 3/150\n",
      "44472/44472 [==============================] - 1s 21us/step - loss: 28535.3647 - mean_squared_error: 28535.3647\n",
      "Epoch 4/150\n",
      "44472/44472 [==============================] - 1s 21us/step - loss: 28535.3646 - mean_squared_error: 28535.3646\n",
      "Epoch 5/150\n",
      "44472/44472 [==============================] - 1s 21us/step - loss: 28535.3647 - mean_squared_error: 28535.3647\n",
      "Epoch 6/150\n",
      "44472/44472 [==============================] - 1s 23us/step - loss: 28535.3648 - mean_squared_error: 28535.3648\n",
      "Epoch 7/150\n",
      "44472/44472 [==============================] - 1s 21us/step - loss: 28535.3647 - mean_squared_error: 28535.3647\n",
      "Epoch 8/150\n",
      "44472/44472 [==============================] - 1s 22us/step - loss: 28535.3644 - mean_squared_error: 28535.3644\n",
      "Epoch 9/150\n",
      "44472/44472 [==============================] - 1s 20us/step - loss: 28535.3646 - mean_squared_error: 28535.3646\n",
      "Epoch 10/150\n",
      "44472/44472 [==============================] - 1s 20us/step - loss: 28535.3645 - mean_squared_error: 28535.3645\n",
      "Epoch 11/150\n",
      "44472/44472 [==============================] - 1s 21us/step - loss: 28535.3647 - mean_squared_error: 28535.3647\n",
      "Epoch 12/150\n",
      "44472/44472 [==============================] - 1s 20us/step - loss: 28535.3646 - mean_squared_error: 28535.3646\n",
      "Epoch 13/150\n",
      "44472/44472 [==============================] - 1s 21us/step - loss: 28535.3646 - mean_squared_error: 28535.3646\n",
      "Epoch 14/150\n",
      "44472/44472 [==============================] - 1s 20us/step - loss: 28535.3644 - mean_squared_error: 28535.3644\n",
      "Epoch 15/150\n",
      "44472/44472 [==============================] - 1s 20us/step - loss: 28535.3648 - mean_squared_error: 28535.3648\n",
      "Epoch 16/150\n",
      "44472/44472 [==============================] - 1s 20us/step - loss: 28535.3646 - mean_squared_error: 28535.3646\n",
      "Epoch 17/150\n",
      "44472/44472 [==============================] - 1s 20us/step - loss: 28535.3648 - mean_squared_error: 28535.3648\n",
      "Epoch 18/150\n",
      "44472/44472 [==============================] - 1s 21us/step - loss: 28535.3647 - mean_squared_error: 28535.3647\n",
      "Epoch 19/150\n",
      "44472/44472 [==============================] - 1s 20us/step - loss: 28535.3649 - mean_squared_error: 28535.3649\n",
      "Epoch 20/150\n",
      "44472/44472 [==============================] - 1s 20us/step - loss: 28535.3648 - mean_squared_error: 28535.3648\n",
      "Epoch 21/150\n",
      "44472/44472 [==============================] - 1s 20us/step - loss: 28535.3647 - mean_squared_error: 28535.3647\n",
      "Epoch 22/150\n",
      "44472/44472 [==============================] - 1s 21us/step - loss: 28535.3647 - mean_squared_error: 28535.3647\n",
      "Epoch 23/150\n",
      "44472/44472 [==============================] - 1s 21us/step - loss: 28535.3648 - mean_squared_error: 28535.3648\n",
      "Epoch 24/150\n",
      "44472/44472 [==============================] - 1s 21us/step - loss: 28535.3648 - mean_squared_error: 28535.3648\n",
      "Epoch 25/150\n",
      "44472/44472 [==============================] - 1s 22us/step - loss: 28535.3642 - mean_squared_error: 28535.3642\n",
      "Epoch 26/150\n",
      "44472/44472 [==============================] - 1s 21us/step - loss: 28535.3648 - mean_squared_error: 28535.3648\n",
      "Epoch 27/150\n",
      "44472/44472 [==============================] - 1s 21us/step - loss: 28535.3645 - mean_squared_error: 28535.3645 0s - loss: 28567.6301 - mean_squared_error: 28\n",
      "Epoch 28/150\n",
      "44472/44472 [==============================] - 1s 21us/step - loss: 28535.3646 - mean_squared_error: 28535.3646\n",
      "Epoch 29/150\n",
      "44472/44472 [==============================] - 1s 21us/step - loss: 28535.3647 - mean_squared_error: 28535.3647\n",
      "Epoch 30/150\n",
      "44472/44472 [==============================] - 1s 21us/step - loss: 28535.3648 - mean_squared_error: 28535.3648\n",
      "Epoch 31/150\n",
      "44472/44472 [==============================] - 1s 20us/step - loss: 28535.3648 - mean_squared_error: 28535.3648\n",
      "Epoch 32/150\n",
      "44472/44472 [==============================] - 1s 22us/step - loss: 28535.3649 - mean_squared_error: 28535.3649\n",
      "Epoch 33/150\n",
      "44472/44472 [==============================] - 1s 21us/step - loss: 28535.3648 - mean_squared_error: 28535.3648\n",
      "Epoch 34/150\n",
      "44472/44472 [==============================] - 1s 24us/step - loss: 28535.3646 - mean_squared_error: 28535.3646\n",
      "Epoch 35/150\n",
      "44472/44472 [==============================] - 1s 21us/step - loss: 28535.3647 - mean_squared_error: 28535.3647\n",
      "Epoch 36/150\n",
      "44472/44472 [==============================] - 1s 22us/step - loss: 28535.3647 - mean_squared_error: 28535.3647\n",
      "Epoch 37/150\n",
      "44472/44472 [==============================] - 1s 20us/step - loss: 28535.3648 - mean_squared_error: 28535.3648\n",
      "Epoch 38/150\n",
      "44472/44472 [==============================] - 1s 20us/step - loss: 28535.3646 - mean_squared_error: 28535.3646\n",
      "Epoch 39/150\n",
      "44472/44472 [==============================] - 1s 20us/step - loss: 28535.3646 - mean_squared_error: 28535.3646\n",
      "Epoch 40/150\n",
      "44472/44472 [==============================] - 1s 20us/step - loss: 28535.3649 - mean_squared_error: 28535.3649\n",
      "Epoch 41/150\n",
      "44472/44472 [==============================] - 1s 21us/step - loss: 28535.3649 - mean_squared_error: 28535.3649\n",
      "Epoch 42/150\n",
      "44472/44472 [==============================] - 1s 20us/step - loss: 28535.3647 - mean_squared_error: 28535.3647\n",
      "Epoch 43/150\n",
      "44472/44472 [==============================] - 1s 20us/step - loss: 28535.3649 - mean_squared_error: 28535.3649\n",
      "Epoch 44/150\n",
      "44472/44472 [==============================] - 1s 21us/step - loss: 28535.3645 - mean_squared_error: 28535.3645\n",
      "Epoch 45/150\n",
      "44472/44472 [==============================] - 1s 21us/step - loss: 28535.3648 - mean_squared_error: 28535.3648\n",
      "Epoch 46/150\n",
      "44472/44472 [==============================] - 1s 20us/step - loss: 28535.3647 - mean_squared_error: 28535.3647\n",
      "Epoch 47/150\n",
      "44472/44472 [==============================] - 1s 20us/step - loss: 28535.3647 - mean_squared_error: 28535.3647\n",
      "Epoch 48/150\n",
      "44472/44472 [==============================] - 1s 21us/step - loss: 28535.3646 - mean_squared_error: 28535.3646\n",
      "Epoch 49/150\n",
      "44472/44472 [==============================] - 1s 21us/step - loss: 28535.3646 - mean_squared_error: 28535.3646\n",
      "Epoch 50/150\n",
      "44472/44472 [==============================] - 1s 20us/step - loss: 28535.3645 - mean_squared_error: 28535.3645\n",
      "Epoch 51/150\n",
      "44472/44472 [==============================] - 1s 23us/step - loss: 28535.3647 - mean_squared_error: 28535.3647\n",
      "Epoch 52/150\n",
      "44472/44472 [==============================] - 1s 22us/step - loss: 28535.3648 - mean_squared_error: 28535.3648\n",
      "Epoch 53/150\n",
      "44472/44472 [==============================] - 1s 21us/step - loss: 28535.3647 - mean_squared_error: 28535.3647\n",
      "Epoch 54/150\n",
      "44472/44472 [==============================] - 1s 20us/step - loss: 28535.3648 - mean_squared_error: 28535.3648\n",
      "Epoch 55/150\n",
      "44472/44472 [==============================] - 1s 20us/step - loss: 28535.3646 - mean_squared_error: 28535.3646\n",
      "Epoch 56/150\n"
     ]
    },
    {
     "name": "stdout",
     "output_type": "stream",
     "text": [
      "44472/44472 [==============================] - 1s 20us/step - loss: 28535.3649 - mean_squared_error: 28535.3649\n",
      "Epoch 57/150\n",
      "44472/44472 [==============================] - 1s 19us/step - loss: 28535.3648 - mean_squared_error: 28535.3648\n",
      "Epoch 58/150\n",
      "44472/44472 [==============================] - 1s 20us/step - loss: 28535.3646 - mean_squared_error: 28535.3646\n",
      "Epoch 59/150\n",
      "44472/44472 [==============================] - 1s 20us/step - loss: 28535.3647 - mean_squared_error: 28535.3647\n",
      "Epoch 60/150\n",
      "44472/44472 [==============================] - 1s 20us/step - loss: 28535.3646 - mean_squared_error: 28535.3646\n",
      "Epoch 61/150\n",
      "44472/44472 [==============================] - 1s 20us/step - loss: 28535.3648 - mean_squared_error: 28535.3648\n",
      "Epoch 62/150\n",
      "44472/44472 [==============================] - 1s 20us/step - loss: 28535.3647 - mean_squared_error: 28535.3647\n",
      "Epoch 63/150\n",
      "44472/44472 [==============================] - 1s 22us/step - loss: 28535.3648 - mean_squared_error: 28535.3648\n",
      "Epoch 64/150\n",
      "44472/44472 [==============================] - 1s 21us/step - loss: 28535.3646 - mean_squared_error: 28535.3646\n",
      "Epoch 65/150\n",
      "44472/44472 [==============================] - 1s 21us/step - loss: 28535.3648 - mean_squared_error: 28535.3648\n",
      "Epoch 66/150\n",
      "44472/44472 [==============================] - 1s 20us/step - loss: 28535.3649 - mean_squared_error: 28535.3649\n",
      "Epoch 67/150\n",
      "44472/44472 [==============================] - 1s 21us/step - loss: 28535.3646 - mean_squared_error: 28535.3646\n",
      "Epoch 68/150\n",
      "44472/44472 [==============================] - 1s 21us/step - loss: 28535.3647 - mean_squared_error: 28535.3647\n",
      "Epoch 69/150\n",
      "44472/44472 [==============================] - 1s 21us/step - loss: 28535.3648 - mean_squared_error: 28535.3648\n",
      "Epoch 70/150\n",
      "44472/44472 [==============================] - 1s 21us/step - loss: 28535.3647 - mean_squared_error: 28535.3647\n",
      "Epoch 71/150\n",
      "44472/44472 [==============================] - 1s 21us/step - loss: 28535.3646 - mean_squared_error: 28535.3646\n",
      "Epoch 72/150\n",
      "44472/44472 [==============================] - 1s 22us/step - loss: 28535.3647 - mean_squared_error: 28535.3647\n",
      "Epoch 73/150\n",
      "44472/44472 [==============================] - 1s 21us/step - loss: 28535.3645 - mean_squared_error: 28535.3645\n",
      "Epoch 74/150\n",
      "44472/44472 [==============================] - 1s 20us/step - loss: 28535.3647 - mean_squared_error: 28535.3647\n",
      "Epoch 75/150\n",
      "44472/44472 [==============================] - 1s 20us/step - loss: 28535.3647 - mean_squared_error: 28535.3647\n",
      "Epoch 76/150\n",
      "44472/44472 [==============================] - 1s 19us/step - loss: 28535.3648 - mean_squared_error: 28535.3648\n",
      "Epoch 77/150\n",
      "44472/44472 [==============================] - 1s 21us/step - loss: 28535.3645 - mean_squared_error: 28535.3645\n",
      "Epoch 78/150\n",
      "44472/44472 [==============================] - 1s 20us/step - loss: 28535.3647 - mean_squared_error: 28535.3647\n",
      "Epoch 79/150\n",
      "44472/44472 [==============================] - 1s 19us/step - loss: 28535.3647 - mean_squared_error: 28535.3647\n",
      "Epoch 80/150\n",
      "44472/44472 [==============================] - 1s 21us/step - loss: 28535.3647 - mean_squared_error: 28535.3647\n",
      "Epoch 81/150\n",
      "44472/44472 [==============================] - 1s 21us/step - loss: 28535.3646 - mean_squared_error: 28535.3646\n",
      "Epoch 82/150\n",
      "44472/44472 [==============================] - 1s 20us/step - loss: 28535.3647 - mean_squared_error: 28535.3647\n",
      "Epoch 83/150\n",
      "44472/44472 [==============================] - 1s 20us/step - loss: 28535.3645 - mean_squared_error: 28535.3645\n",
      "Epoch 84/150\n",
      "44472/44472 [==============================] - 1s 20us/step - loss: 28535.3646 - mean_squared_error: 28535.3646\n",
      "Epoch 85/150\n",
      "44472/44472 [==============================] - 1s 22us/step - loss: 28535.3649 - mean_squared_error: 28535.3649\n",
      "Epoch 86/150\n",
      "44472/44472 [==============================] - 1s 20us/step - loss: 28535.3648 - mean_squared_error: 28535.3648\n",
      "Epoch 87/150\n",
      "44472/44472 [==============================] - 1s 22us/step - loss: 28535.3647 - mean_squared_error: 28535.3647\n",
      "Epoch 88/150\n",
      "44472/44472 [==============================] - 1s 20us/step - loss: 28535.3645 - mean_squared_error: 28535.3645\n",
      "Epoch 89/150\n",
      "44472/44472 [==============================] - 1s 22us/step - loss: 28535.3648 - mean_squared_error: 28535.3648\n",
      "Epoch 90/150\n",
      "44472/44472 [==============================] - 1s 20us/step - loss: 28535.3648 - mean_squared_error: 28535.3648\n",
      "Epoch 91/150\n",
      "44472/44472 [==============================] - 1s 21us/step - loss: 28535.3646 - mean_squared_error: 28535.3646\n",
      "Epoch 92/150\n",
      "44472/44472 [==============================] - 1s 20us/step - loss: 28535.3647 - mean_squared_error: 28535.3647\n",
      "Epoch 93/150\n",
      "44472/44472 [==============================] - 1s 20us/step - loss: 28535.3647 - mean_squared_error: 28535.3647\n",
      "Epoch 94/150\n",
      "44472/44472 [==============================] - 1s 22us/step - loss: 28535.3648 - mean_squared_error: 28535.3648\n",
      "Epoch 95/150\n",
      "44472/44472 [==============================] - 1s 20us/step - loss: 28535.3648 - mean_squared_error: 28535.3648\n",
      "Epoch 96/150\n",
      "44472/44472 [==============================] - 1s 21us/step - loss: 28535.3649 - mean_squared_error: 28535.3649\n",
      "Epoch 97/150\n",
      "44472/44472 [==============================] - 1s 20us/step - loss: 28535.3646 - mean_squared_error: 28535.3646\n",
      "Epoch 98/150\n",
      "44472/44472 [==============================] - 1s 19us/step - loss: 28535.3646 - mean_squared_error: 28535.3646\n",
      "Epoch 99/150\n",
      "44472/44472 [==============================] - 1s 20us/step - loss: 28535.3646 - mean_squared_error: 28535.3646\n",
      "Epoch 100/150\n",
      "44472/44472 [==============================] - 1s 20us/step - loss: 28535.3648 - mean_squared_error: 28535.3648\n",
      "Epoch 101/150\n",
      "44472/44472 [==============================] - 1s 20us/step - loss: 28535.3647 - mean_squared_error: 28535.3647\n",
      "Epoch 102/150\n",
      "44472/44472 [==============================] - 1s 21us/step - loss: 28535.3647 - mean_squared_error: 28535.3647\n",
      "Epoch 103/150\n",
      "44472/44472 [==============================] - 1s 20us/step - loss: 28535.3646 - mean_squared_error: 28535.3646\n",
      "Epoch 104/150\n",
      "44472/44472 [==============================] - 1s 19us/step - loss: 28535.3647 - mean_squared_error: 28535.3647\n",
      "Epoch 105/150\n",
      "44472/44472 [==============================] - 1s 19us/step - loss: 28535.3649 - mean_squared_error: 28535.3649\n",
      "Epoch 106/150\n",
      "44472/44472 [==============================] - 1s 19us/step - loss: 28535.3646 - mean_squared_error: 28535.3646\n",
      "Epoch 107/150\n",
      "44472/44472 [==============================] - 1s 20us/step - loss: 28535.3646 - mean_squared_error: 28535.3646\n",
      "Epoch 108/150\n",
      "44472/44472 [==============================] - 1s 19us/step - loss: 28535.3648 - mean_squared_error: 28535.3648\n",
      "Epoch 109/150\n",
      "44472/44472 [==============================] - 1s 19us/step - loss: 28535.3645 - mean_squared_error: 28535.3645\n",
      "Epoch 110/150\n",
      "44472/44472 [==============================] - 1s 19us/step - loss: 28535.3650 - mean_squared_error: 28535.3650\n",
      "Epoch 111/150\n",
      "44472/44472 [==============================] - 1s 19us/step - loss: 28535.3647 - mean_squared_error: 28535.3647\n",
      "Epoch 112/150\n",
      "44472/44472 [==============================] - 1s 19us/step - loss: 28535.3646 - mean_squared_error: 28535.3646\n",
      "Epoch 113/150\n",
      "44472/44472 [==============================] - 1s 19us/step - loss: 28535.3648 - mean_squared_error: 28535.3648\n",
      "Epoch 114/150\n",
      "44472/44472 [==============================] - 1s 20us/step - loss: 28535.3645 - mean_squared_error: 28535.3645\n",
      "Epoch 115/150\n",
      "44472/44472 [==============================] - 1s 20us/step - loss: 28535.3649 - mean_squared_error: 28535.3649\n",
      "Epoch 116/150\n",
      "44472/44472 [==============================] - 1s 20us/step - loss: 28535.3648 - mean_squared_error: 28535.3648\n",
      "Epoch 117/150\n",
      "44472/44472 [==============================] - 1s 20us/step - loss: 28535.3645 - mean_squared_error: 28535.3645\n",
      "Epoch 118/150\n",
      "44472/44472 [==============================] - 1s 20us/step - loss: 28535.3646 - mean_squared_error: 28535.3646\n",
      "Epoch 119/150\n",
      "44472/44472 [==============================] - 1s 20us/step - loss: 28535.3648 - mean_squared_error: 28535.3648\n",
      "Epoch 120/150\n",
      "44472/44472 [==============================] - 1s 20us/step - loss: 28535.3647 - mean_squared_error: 28535.3647\n",
      "Epoch 121/150\n"
     ]
    },
    {
     "name": "stdout",
     "output_type": "stream",
     "text": [
      "44472/44472 [==============================] - 1s 19us/step - loss: 28535.3646 - mean_squared_error: 28535.3646\n",
      "Epoch 122/150\n",
      "44472/44472 [==============================] - 1s 20us/step - loss: 28535.3647 - mean_squared_error: 28535.3647\n",
      "Epoch 123/150\n",
      "44472/44472 [==============================] - 1s 19us/step - loss: 28535.3647 - mean_squared_error: 28535.3647\n",
      "Epoch 124/150\n",
      "44472/44472 [==============================] - 1s 20us/step - loss: 28535.3646 - mean_squared_error: 28535.3646\n",
      "Epoch 125/150\n",
      "44472/44472 [==============================] - 1s 19us/step - loss: 28535.3648 - mean_squared_error: 28535.3648\n",
      "Epoch 126/150\n",
      "44472/44472 [==============================] - 1s 19us/step - loss: 28535.3646 - mean_squared_error: 28535.3646\n",
      "Epoch 127/150\n",
      "44472/44472 [==============================] - 1s 20us/step - loss: 28535.3648 - mean_squared_error: 28535.3648\n",
      "Epoch 128/150\n",
      "44472/44472 [==============================] - 1s 20us/step - loss: 28535.3646 - mean_squared_error: 28535.3646\n",
      "Epoch 129/150\n",
      "44472/44472 [==============================] - 1s 20us/step - loss: 28535.3647 - mean_squared_error: 28535.3647\n",
      "Epoch 130/150\n",
      "44472/44472 [==============================] - 1s 20us/step - loss: 28535.3648 - mean_squared_error: 28535.3648\n",
      "Epoch 131/150\n",
      "44472/44472 [==============================] - 1s 19us/step - loss: 28535.3647 - mean_squared_error: 28535.3647\n",
      "Epoch 132/150\n",
      "44472/44472 [==============================] - 1s 19us/step - loss: 28535.3645 - mean_squared_error: 28535.3645\n",
      "Epoch 133/150\n",
      "44472/44472 [==============================] - 1s 19us/step - loss: 28535.3649 - mean_squared_error: 28535.3649\n",
      "Epoch 134/150\n",
      "44472/44472 [==============================] - 1s 21us/step - loss: 28535.3647 - mean_squared_error: 28535.3647\n",
      "Epoch 135/150\n",
      "44472/44472 [==============================] - 1s 20us/step - loss: 28535.3648 - mean_squared_error: 28535.3648\n",
      "Epoch 136/150\n",
      "44472/44472 [==============================] - 1s 20us/step - loss: 28535.3646 - mean_squared_error: 28535.3646\n",
      "Epoch 137/150\n",
      "44472/44472 [==============================] - 1s 19us/step - loss: 28535.3647 - mean_squared_error: 28535.3647\n",
      "Epoch 138/150\n",
      "44472/44472 [==============================] - 1s 19us/step - loss: 28535.3646 - mean_squared_error: 28535.3646\n",
      "Epoch 139/150\n",
      "44472/44472 [==============================] - 1s 20us/step - loss: 28535.3647 - mean_squared_error: 28535.3647\n",
      "Epoch 140/150\n",
      "44472/44472 [==============================] - 1s 20us/step - loss: 28535.3647 - mean_squared_error: 28535.3647\n",
      "Epoch 141/150\n",
      "44472/44472 [==============================] - 1s 20us/step - loss: 28535.3647 - mean_squared_error: 28535.3647\n",
      "Epoch 142/150\n",
      "44472/44472 [==============================] - 1s 20us/step - loss: 28535.3647 - mean_squared_error: 28535.3647\n",
      "Epoch 143/150\n",
      "44472/44472 [==============================] - 1s 20us/step - loss: 28535.3647 - mean_squared_error: 28535.3647\n",
      "Epoch 144/150\n",
      "44472/44472 [==============================] - 1s 20us/step - loss: 28535.3647 - mean_squared_error: 28535.3647\n",
      "Epoch 145/150\n",
      "44472/44472 [==============================] - 1s 20us/step - loss: 28535.3647 - mean_squared_error: 28535.3647\n",
      "Epoch 146/150\n",
      "44472/44472 [==============================] - 1s 19us/step - loss: 28535.3646 - mean_squared_error: 28535.3646\n",
      "Epoch 147/150\n",
      "44472/44472 [==============================] - 1s 20us/step - loss: 28535.3649 - mean_squared_error: 28535.3649\n",
      "Epoch 148/150\n",
      "44472/44472 [==============================] - 1s 20us/step - loss: 28535.3648 - mean_squared_error: 28535.3648\n",
      "Epoch 149/150\n",
      "44472/44472 [==============================] - 1s 20us/step - loss: 28535.3649 - mean_squared_error: 28535.3649\n",
      "Epoch 150/150\n",
      "44472/44472 [==============================] - 1s 20us/step - loss: 28535.3648 - mean_squared_error: 28535.3648\n"
     ]
    }
   ],
   "source": [
    "#setttings\n",
    "batch_size = 256\n",
    "epochs = 75\n",
    "nn_args = {\"act\":[\"swish\", \"swish\", \"relu\"]}\n",
    "###############################\n",
    "\n",
    "#overwrite default column for predictor\n",
    "ff_df[\"Fraction\"] = df_meta[\"Retention time\"]\n",
    "\n",
    "#train and test split\n",
    "train_df, valid_df = np.split(ff_df.sample(frac=1, random_state=42), \n",
    "                              [int(.75*len(ff_df))])\n",
    "\n",
    "#format the dataframe for ML \n",
    "X_train_full, Seqs_train_full, y_train_full = LP.process_df(train_df)\n",
    "X_valid_full, Seqs_valid_full, y_valid_full = LP.process_df(valid_df)    \n",
    "\n",
    "# encode class values as integers\n",
    "encoder = LabelEncoder()\n",
    "encoder.fit(y_train_full)\n",
    "\n",
    "#output dims depending on the number of fractions\n",
    "output_dims = len(np.unique(train_df.Fraction))\n",
    "input_dims = X_train_full.shape[1]\n",
    "\n",
    "nnmodel = LM.FNN_Regressor(input_dim=input_dims, output_dim=1, loss=\"mse\",**nn_args)\n",
    "print (nnmodel.summary())\n",
    "history = nnmodel.fit(np.array(X_train_full),\n",
    "                      y_train_full,\n",
    "                      epochs=epochs, batch_size=batch_size)\n"
   ]
  },
  {
   "cell_type": "markdown",
   "metadata": {},
   "source": [
    "Here we compare the neural network model with a simple linear regression model (as used and implemented in pyteomics)."
   ]
  },
  {
   "cell_type": "code",
   "execution_count": 49,
   "metadata": {},
   "outputs": [
    {
     "name": "stderr",
     "output_type": "stream",
     "text": [
      "C:\\ProgramData\\Anaconda3\\lib\\site-packages\\pyteomics\\achrom.py:440: FutureWarning: `rcond` parameter will change to the default of machine precision times ``max(M, N)`` where M and N are the input matrix dimensions.\n",
      "To use the future default and silence this warning we advise to pass `rcond=None`, to keep using the old, explicitly pass `rcond=-1`.\n",
      "  np.array(RTs))\n"
     ]
    },
    {
     "name": "stdout",
     "output_type": "stream",
     "text": [
      "Pyteomics MSE (train): 1071.47\n",
      "Pyteomics MSE (valid): 1021.61\n"
     ]
    }
   ],
   "source": [
    "#pyteomics comparison\n",
    "#Seqs_train_full.head()\n",
    "RCs = achrom.get_RCs(Seqs_train_full, y_train_full)\n",
    "RThat_train_pyt = np.array([achrom.calculate_RT(i, RCs) for i in Seqs_train_full])\n",
    "RThat_valid_pyt = np.array([achrom.calculate_RT(i, RCs) for i in Seqs_valid_full])\n",
    "\n",
    "print (\"Pyteomics MSE (train): {:.2f}\".format(mean_squared_error(y_train_full, RThat_train_pyt)))\n",
    "print (\"Pyteomics MSE (valid): {:.2f}\".format(mean_squared_error(y_valid_full, RThat_valid_pyt)))"
   ]
  },
  {
   "cell_type": "code",
   "execution_count": 50,
   "metadata": {},
   "outputs": [
    {
     "name": "stdout",
     "output_type": "stream",
     "text": [
      "DePART MSE (train): 28535.36\n",
      "DePART MSE (valid): 28703.25\n"
     ]
    }
   ],
   "source": [
    "#neural network metrics\n",
    "RThat_train_dep = np.ravel(nnmodel.predict(X_train_full))\n",
    "RThat_valid_dep = np.ravel(nnmodel.predict(X_valid_full))\n",
    "print (\"DePART MSE (train): {:.2f}\".format(mean_squared_error(y_train_full, RThat_train_dep)))\n",
    "print (\"DePART MSE (valid): {:.2f}\".format(mean_squared_error(y_valid_full, RThat_valid_dep)))"
   ]
  },
  {
   "cell_type": "markdown",
   "metadata": {},
   "source": [
    "The results look in favor of DePART. Lets visualize the predictions."
   ]
  },
  {
   "cell_type": "code",
   "execution_count": 46,
   "metadata": {},
   "outputs": [
    {
     "name": "stdout",
     "output_type": "stream",
     "text": [
      "Pyteomics Model\n"
     ]
    },
    {
     "data": {
      "text/plain": [
       "<matplotlib.figure.Figure at 0x1e5efd8ee10>"
      ]
     },
     "metadata": {},
     "output_type": "display_data"
    },
    {
     "data": {
      "image/png": "[encoded data removed]",
      "text/plain": [
       "<matplotlib.figure.Figure at 0x1e5ee0c47b8>"
      ]
     },
     "metadata": {},
     "output_type": "display_data"
    },
    {
     "name": "stdout",
     "output_type": "stream",
     "text": [
      "Neural Network\n"
     ]
    },
    {
     "data": {
      "image/png": "[encoded data removed]",
      "text/plain": [
       "<matplotlib.figure.Figure at 0x1e5edc8c9e8>"
      ]
     },
     "metadata": {},
     "output_type": "display_data"
    }
   ],
   "source": [
    "plt.clf()\n",
    "\n",
    "print (\"Pyteomics Model\")\n",
    "g = sns.jointplot(y_valid_full.values, RThat_valid_pyt, kind=\"kde\")\n",
    "x0, x1 = g.ax_joint.get_xlim()\n",
    "y0, y1 = g.ax_joint.get_ylim()\n",
    "lims = [max(x0, y0), min(x1, y1)]\n",
    "g.ax_joint.plot(lims, lims, ':k')    \n",
    "plt.show()\n",
    "\n",
    "print (\"Neural Network\")\n",
    "g = sns.jointplot(y_valid_full.values, RThat_valid_dep, kind=\"kde\")\n",
    "x0, x1 = g.ax_joint.get_xlim()\n",
    "y0, y1 = g.ax_joint.get_ylim()\n",
    "lims = [max(x0, y0), min(x1, y1)]\n",
    "g.ax_joint.plot(lims, lims, ':k')    \n",
    "plt.show()"
   ]
  },
  {
   "cell_type": "markdown",
   "metadata": {},
   "source": [
    "As the MSE indicates both methods are fairly accurate in predicting RT on the validation data."
   ]
  },
  {
   "cell_type": "code",
   "execution_count": 47,
   "metadata": {},
   "outputs": [
    {
     "data": {
      "image/png": "[encoded data removed]",
      "text/plain": [
       "<matplotlib.figure.Figure at 0x1e5eabf1908>"
      ]
     },
     "metadata": {},
     "output_type": "display_data"
    }
   ],
   "source": [
    "# we can also plot the history of the epochs along with the error metric (here, accuracy)\n",
    "#compute some metrics\n",
    "#is worth running more epochs?\n",
    "plt.plot(np.log10(history.history['mean_squared_error']))\n",
    "plt.title('model MSE')\n",
    "plt.ylabel('MSE')\n",
    "plt.xlabel('epoch')\n",
    "plt.legend(['train'], loc='upper left')\n",
    "plt.show()"
   ]
  },
  {
   "cell_type": "code",
   "execution_count": 40,
   "metadata": {},
   "outputs": [
    {
     "name": "stdout",
     "output_type": "stream",
     "text": [
      "dict_keys(['loss', 'mean_squared_error'])\n"
     ]
    }
   ],
   "source": []
  }
 ],
 "metadata": {
  "kernelspec": {
   "display_name": "Python 3",
   "language": "python",
   "name": "python3"
  },
  "language_info": {
   "codemirror_mode": {
    "name": "ipython",
    "version": 3
   },
   "file_extension": ".py",
   "mimetype": "text/x-python",
   "name": "python",
   "nbconvert_exporter": "python",
   "pygments_lexer": "ipython3",
   "version": "3.6.3"
  }
 },
 "nbformat": 4,
 "nbformat_minor": 2
}
