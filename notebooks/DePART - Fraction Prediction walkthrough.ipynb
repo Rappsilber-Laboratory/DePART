{
 "cells": [
  {
   "cell_type": "markdown",
   "metadata": {},
   "source": [
    "# Tutorial: Running DePART within Python for Fractionation #\n",
    "\n",
    "The tutorial covers the following parts:\n",
    "\n",
    "1. Getting data from MaxQuant into Python\n",
    "2. Generating the default list of features used by DePART\n",
    "3. Fitting the Feed Forward Neural Net (FNN) to the Training data\n",
    "4. Predicting new class labels on another data set and QC metrics\n",
    "5. High-Level functions to simply CV, learn/predict\n"
   ]
  },
  {
   "cell_type": "code",
   "execution_count": 1,
   "metadata": {},
   "outputs": [
    {
     "name": "stderr",
     "output_type": "stream",
     "text": [
      "C:\\ProgramData\\Anaconda3\\lib\\site-packages\\h5py\\__init__.py:36: FutureWarning: Conversion of the second argument of issubdtype from `float` to `np.floating` is deprecated. In future, it will be treated as `np.float64 == np.dtype(float).type`.\n",
      "  from ._conv import register_converters as _register_converters\n",
      "Using TensorFlow backend.\n"
     ]
    }
   ],
   "source": [
    "#necessary imports\n",
    "import DePART.preprocessing.FeatureFactory as FF\n",
    "import DePART.preprocessing.PrepFactory as PF\n",
    "import DePART.reader.ReaderFactory as RF\n",
    "import DePART.learning.models as LM\n",
    "import DePART.learning.processing as LP\n",
    "\n",
    "from sklearn.preprocessing import LabelEncoder\n",
    "from sklearn.metrics import mean_absolute_error, auc, mean_squared_error, r2_score, f1_score, accuracy_score\n",
    "\n",
    "import numpy as np\n",
    "import os\n",
    "import pandas as pd\n",
    "import sys\n",
    "import seaborn as sns\n",
    "import matplotlib.pyplot as plt\n",
    "from keras.utils import np_utils\n",
    "\n",
    "#set a seed\n",
    "np.random.seed(42)"
   ]
  },
  {
   "cell_type": "markdown",
   "metadata": {},
   "source": [
    "## 1. Getting data from MaxQuant "
   ]
  },
  {
   "cell_type": "code",
   "execution_count": 3,
   "metadata": {},
   "outputs": [
    {
     "name": "stdout",
     "output_type": "stream",
     "text": [
      "(337832, 60)\n"
     ]
    },
    {
     "name": "stderr",
     "output_type": "stream",
     "text": [
      "C:\\ProgramData\\Anaconda3\\lib\\site-packages\\numpy\\core\\fromnumeric.py:52: FutureWarning: 'argmax' is deprecated. Use 'idxmax' instead. The behavior of 'argmax' will be corrected to return the positional maximum in the future. Use 'series.values.argmax' to get the position of the maximum now.\n",
      "  return getattr(obj, method)(*args, **kwds)\n"
     ]
    },
    {
     "name": "stdout",
     "output_type": "stream",
     "text": [
      "NRows BEFORE min obs filter: 59723\n",
      "NRows AFTER min obs filter: 59297\n"
     ]
    }
   ],
   "source": [
    "#options\n",
    "min_obs = 1\n",
    "#infile = \"C:\\\\Users\\\\hanjo\\\\ML\\\\DePART_New\\\\data\\\\evidence_SAX_Trost.txt\"\n",
    "infile = \"C:\\\\Users\\\\Hanjo\\\\Spyder_DePART\\\\DePART\\\\data\\\\evidence_SAX_Trost.txt\"\n",
    "df_evidence = RF.MaxQuant_Reader(infile)\n",
    "print (df_evidence.shape)\n",
    "\n",
    "#select most intense\n",
    "df_filter = PF.filter_low_int_ids(df_evidence)\n",
    "\n",
    "#minimum obs filter per fraction\n",
    "df_filter = PF.filter_obs(df_filter, min_obs=min_obs)\n",
    "\n",
    "#get a minimal df for processing\n",
    "df_meta, df = PF.to_minimal_df(df_filter)"
   ]
  },
  {
   "cell_type": "markdown",
   "metadata": {},
   "source": [
    "## 2. Generating the default list of features used by DePART"
   ]
  },
  {
   "cell_type": "code",
   "execution_count": 4,
   "metadata": {},
   "outputs": [
    {
     "name": "stdout",
     "output_type": "stream",
     "text": [
      "300\n"
     ]
    },
    {
     "name": "stderr",
     "output_type": "stream",
     "text": [
      "C:\\ProgramData\\Anaconda3\\lib\\site-packages\\DePART\\preprocessing\\FeatureFactory.py:39: SettingWithCopyWarning: \n",
      "A value is trying to be set on a copy of a slice from a DataFrame.\n",
      "Try using .loc[row_indexer,col_indexer] = value instead\n",
      "\n",
      "See the caveats in the documentation: http://pandas.pydata.org/pandas-docs/stable/indexing.html#indexing-view-versus-copy\n",
      "  df[\"Sequence\"] = df[\"Sequence\"].apply(simply_alphabet).values\n"
     ]
    },
    {
     "name": "stdout",
     "output_type": "stream",
     "text": [
      "There were no identifyable amino acids/modifications in your data: . We cannot deal with these...\n"
     ]
    },
    {
     "name": "stderr",
     "output_type": "stream",
     "text": [
      "C:\\ProgramData\\Anaconda3\\lib\\site-packages\\DePART\\preprocessing\\FeatureFactory.py:533: FutureWarning: set_value is deprecated and will be removed in a future release. Please use .at[] or .iat[] accessors instead\n",
      "  count_df.set_value(ii, nterm, count_df.loc[ii][nterm]+1)\n",
      "C:\\ProgramData\\Anaconda3\\lib\\site-packages\\DePART\\preprocessing\\FeatureFactory.py:540: FutureWarning: set_value is deprecated and will be removed in a future release. Please use .at[] or .iat[] accessors instead\n",
      "  count_df.set_value(ii, cterm, count_df.loc[ii][cterm]+1)\n"
     ]
    }
   ],
   "source": [
    "#generate features\n",
    "Generator = FF.FeatureGenerator()\n",
    "ff_df = Generator.create_all_features(df)\n"
   ]
  },
  {
   "cell_type": "markdown",
   "metadata": {},
   "source": [
    "## 3. Fitting the Feed Forward Neural Net (FNN) to the Training data"
   ]
  },
  {
   "cell_type": "code",
   "execution_count": 5,
   "metadata": {},
   "outputs": [
    {
     "name": "stdout",
     "output_type": "stream",
     "text": [
      "_________________________________________________________________\n",
      "Layer (type)                 Output Shape              Param #   \n",
      "=================================================================\n",
      "dense_1 (Dense)              (None, 50)                10750     \n",
      "_________________________________________________________________\n",
      "dropout_1 (Dropout)          (None, 50)                0         \n",
      "_________________________________________________________________\n",
      "dense_2 (Dense)              (None, 40)                2040      \n",
      "_________________________________________________________________\n",
      "dropout_2 (Dropout)          (None, 40)                0         \n",
      "_________________________________________________________________\n",
      "dense_3 (Dense)              (None, 35)                1435      \n",
      "_________________________________________________________________\n",
      "dropout_3 (Dropout)          (None, 35)                0         \n",
      "_________________________________________________________________\n",
      "dense_4 (Dense)              (None, 29)                1044      \n",
      "=================================================================\n",
      "Total params: 15,269\n",
      "Trainable params: 15,269\n",
      "Non-trainable params: 0\n",
      "_________________________________________________________________\n",
      "None\n",
      "Epoch 1/50\n",
      "44472/44472 [==============================] - 1s 15us/step - loss: 3.1434 - categorical_accuracy: 0.1042 - acc: 0.1042\n",
      "Epoch 2/50\n",
      "44472/44472 [==============================] - 0s 11us/step - loss: 2.2889 - categorical_accuracy: 0.2777 - acc: 0.2777\n",
      "Epoch 3/50\n",
      "44472/44472 [==============================] - 0s 11us/step - loss: 1.9673 - categorical_accuracy: 0.3893 - acc: 0.3893\n",
      "Epoch 4/50\n",
      "44472/44472 [==============================] - 0s 11us/step - loss: 1.7868 - categorical_accuracy: 0.4405 - acc: 0.4405\n",
      "Epoch 5/50\n",
      "44472/44472 [==============================] - 1s 12us/step - loss: 1.6789 - categorical_accuracy: 0.4765 - acc: 0.4765\n",
      "Epoch 6/50\n",
      "44472/44472 [==============================] - 0s 11us/step - loss: 1.5928 - categorical_accuracy: 0.5131 - acc: 0.5131\n",
      "Epoch 7/50\n",
      "44472/44472 [==============================] - 1s 11us/step - loss: 1.5275 - categorical_accuracy: 0.5322 - acc: 0.5322\n",
      "Epoch 8/50\n",
      "44472/44472 [==============================] - 1s 11us/step - loss: 1.4674 - categorical_accuracy: 0.5502 - acc: 0.5502\n",
      "Epoch 9/50\n",
      "44472/44472 [==============================] - 1s 12us/step - loss: 1.4149 - categorical_accuracy: 0.5741 - acc: 0.5741\n",
      "Epoch 10/50\n",
      "44472/44472 [==============================] - 1s 12us/step - loss: 1.3851 - categorical_accuracy: 0.5716 - acc: 0.5716\n",
      "Epoch 11/50\n",
      "44472/44472 [==============================] - 1s 12us/step - loss: 1.3470 - categorical_accuracy: 0.5906 - acc: 0.5906\n",
      "Epoch 12/50\n",
      "44472/44472 [==============================] - 1s 11us/step - loss: 1.3253 - categorical_accuracy: 0.5942 - acc: 0.5942\n",
      "Epoch 13/50\n",
      "44472/44472 [==============================] - 0s 11us/step - loss: 1.3009 - categorical_accuracy: 0.6106 - acc: 0.6106\n",
      "Epoch 14/50\n",
      "44472/44472 [==============================] - 0s 11us/step - loss: 1.2855 - categorical_accuracy: 0.6125 - acc: 0.6125\n",
      "Epoch 15/50\n",
      "44472/44472 [==============================] - 1s 11us/step - loss: 1.2666 - categorical_accuracy: 0.6179 - acc: 0.6179\n",
      "Epoch 16/50\n",
      "44472/44472 [==============================] - 0s 11us/step - loss: 1.2580 - categorical_accuracy: 0.6168 - acc: 0.6168\n",
      "Epoch 17/50\n",
      "44472/44472 [==============================] - 0s 11us/step - loss: 1.2423 - categorical_accuracy: 0.6216 - acc: 0.6216\n",
      "Epoch 18/50\n",
      "44472/44472 [==============================] - 1s 11us/step - loss: 1.2322 - categorical_accuracy: 0.6227 - acc: 0.6227\n",
      "Epoch 19/50\n",
      "44472/44472 [==============================] - 1s 12us/step - loss: 1.2195 - categorical_accuracy: 0.6297 - acc: 0.6297\n",
      "Epoch 20/50\n",
      "44472/44472 [==============================] - 1s 12us/step - loss: 1.2129 - categorical_accuracy: 0.6289 - acc: 0.6289\n",
      "Epoch 21/50\n",
      "44472/44472 [==============================] - 0s 11us/step - loss: 1.2107 - categorical_accuracy: 0.6274 - acc: 0.6274\n",
      "Epoch 22/50\n",
      "44472/44472 [==============================] - 0s 11us/step - loss: 1.1957 - categorical_accuracy: 0.6339 - acc: 0.6339\n",
      "Epoch 23/50\n",
      "44472/44472 [==============================] - 1s 11us/step - loss: 1.1864 - categorical_accuracy: 0.6404 - acc: 0.6404\n",
      "Epoch 24/50\n",
      "44472/44472 [==============================] - 0s 11us/step - loss: 1.1806 - categorical_accuracy: 0.6431 - acc: 0.6431\n",
      "Epoch 25/50\n",
      "44472/44472 [==============================] - 0s 11us/step - loss: 1.1778 - categorical_accuracy: 0.6449 - acc: 0.6449\n",
      "Epoch 26/50\n",
      "44472/44472 [==============================] - 1s 11us/step - loss: 1.1836 - categorical_accuracy: 0.6363 - acc: 0.6363\n",
      "Epoch 27/50\n",
      "44472/44472 [==============================] - 1s 11us/step - loss: 1.1716 - categorical_accuracy: 0.6424 - acc: 0.6424\n",
      "Epoch 28/50\n",
      "44472/44472 [==============================] - 1s 11us/step - loss: 1.1605 - categorical_accuracy: 0.6508 - acc: 0.6508\n",
      "Epoch 29/50\n",
      "44472/44472 [==============================] - 1s 12us/step - loss: 1.1540 - categorical_accuracy: 0.6533 - acc: 0.6533\n",
      "Epoch 30/50\n",
      "44472/44472 [==============================] - 1s 12us/step - loss: 1.1493 - categorical_accuracy: 0.6503 - acc: 0.6503\n",
      "Epoch 31/50\n",
      "44472/44472 [==============================] - 1s 11us/step - loss: 1.1475 - categorical_accuracy: 0.6505 - acc: 0.6505\n",
      "Epoch 32/50\n",
      "44472/44472 [==============================] - 1s 12us/step - loss: 1.1508 - categorical_accuracy: 0.6518 - acc: 0.6518\n",
      "Epoch 33/50\n",
      "44472/44472 [==============================] - 1s 11us/step - loss: 1.1405 - categorical_accuracy: 0.6561 - acc: 0.6561\n",
      "Epoch 34/50\n",
      "44472/44472 [==============================] - 1s 11us/step - loss: 1.1406 - categorical_accuracy: 0.6528 - acc: 0.6528\n",
      "Epoch 35/50\n",
      "44472/44472 [==============================] - 1s 11us/step - loss: 1.1336 - categorical_accuracy: 0.6570 - acc: 0.6570\n",
      "Epoch 36/50\n",
      "44472/44472 [==============================] - 1s 11us/step - loss: 1.1328 - categorical_accuracy: 0.6547 - acc: 0.6547\n",
      "Epoch 37/50\n",
      "44472/44472 [==============================] - 1s 11us/step - loss: 1.1306 - categorical_accuracy: 0.6579 - acc: 0.6579\n",
      "Epoch 38/50\n",
      "44472/44472 [==============================] - 1s 12us/step - loss: 1.1266 - categorical_accuracy: 0.6581 - acc: 0.6581\n",
      "Epoch 39/50\n",
      "44472/44472 [==============================] - 1s 12us/step - loss: 1.1211 - categorical_accuracy: 0.6632 - acc: 0.6632\n",
      "Epoch 40/50\n",
      "44472/44472 [==============================] - 1s 12us/step - loss: 1.1240 - categorical_accuracy: 0.6612 - acc: 0.6612\n",
      "Epoch 41/50\n",
      "44472/44472 [==============================] - 1s 11us/step - loss: 1.1182 - categorical_accuracy: 0.6607 - acc: 0.6607\n",
      "Epoch 42/50\n",
      "44472/44472 [==============================] - 1s 12us/step - loss: 1.1136 - categorical_accuracy: 0.6648 - acc: 0.6648\n",
      "Epoch 43/50\n",
      "44472/44472 [==============================] - 1s 11us/step - loss: 1.1153 - categorical_accuracy: 0.6648 - acc: 0.6648\n",
      "Epoch 44/50\n",
      "44472/44472 [==============================] - 1s 11us/step - loss: 1.1116 - categorical_accuracy: 0.6667 - acc: 0.6667\n",
      "Epoch 45/50\n",
      "44472/44472 [==============================] - 1s 11us/step - loss: 1.1061 - categorical_accuracy: 0.6687 - acc: 0.6687\n",
      "Epoch 46/50\n",
      "44472/44472 [==============================] - 1s 11us/step - loss: 1.1104 - categorical_accuracy: 0.6646 - acc: 0.6646\n",
      "Epoch 47/50\n",
      "44472/44472 [==============================] - 1s 11us/step - loss: 1.1068 - categorical_accuracy: 0.6661 - acc: 0.6661\n",
      "Epoch 48/50\n",
      "44472/44472 [==============================] - 1s 12us/step - loss: 1.1029 - categorical_accuracy: 0.6671 - acc: 0.6671\n",
      "Epoch 49/50\n",
      "44472/44472 [==============================] - 1s 12us/step - loss: 1.1022 - categorical_accuracy: 0.6666 - acc: 0.6666\n",
      "Epoch 50/50\n",
      "44472/44472 [==============================] - 1s 11us/step - loss: 1.1029 - categorical_accuracy: 0.6675 - acc: 0.6675\n"
     ]
    }
   ],
   "source": [
    "#setttings\n",
    "batch_size = 512\n",
    "epochs = 50\n",
    "nn_args = {\"act\":[\"swish\", \"swish\", \"swish\"]}\n",
    "###############################\n",
    "\n",
    "#train and test split\n",
    "train_df, valid_df = np.split(ff_df.sample(frac=1, random_state=42), \n",
    "                              [int(.75*len(ff_df))])\n",
    "\n",
    "#format the dataframe for ML \n",
    "X_train_full, Seqs_train_full, y_train_full = LP.process_df(train_df)\n",
    "X_valid_full, Seqs_valid_full, y_valid_full = LP.process_df(valid_df)    \n",
    "\n",
    "# encode class values as integers\n",
    "encoder = LabelEncoder()\n",
    "encoder.fit(y_train_full)\n",
    "\n",
    "#output dims depending on the number of fractions\n",
    "output_dims = len(np.unique(train_df.Fraction))\n",
    "input_dims = X_train_full.shape[1]\n",
    "\n",
    "nnmodel = LM.SAX_Model(output_dim=output_dims, input_dim=input_dims, **nn_args)\n",
    "print (nnmodel.summary())\n",
    "history = nnmodel.fit(np.array(X_train_full),\n",
    "                      np_utils.to_categorical(encoder.transform(y_train_full)),\n",
    "                      epochs=epochs, batch_size=batch_size)\n"
   ]
  },
  {
   "cell_type": "markdown",
   "metadata": {},
   "source": [
    "## 4. Predicting new class labels on another data set"
   ]
  },
  {
   "cell_type": "code",
   "execution_count": 6,
   "metadata": {},
   "outputs": [
    {
     "data": {
      "image/png": "[encoded data removed]",
      "text/plain": [
       "<matplotlib.figure.Figure at 0x212d4cf7470>"
      ]
     },
     "metadata": {},
     "output_type": "display_data"
    },
    {
     "data": {
      "image/png": "[encoded data removed]",
      "text/plain": [
       "<matplotlib.figure.Figure at 0x212d3489668>"
      ]
     },
     "metadata": {},
     "output_type": "display_data"
    },
    {
     "name": "stdout",
     "output_type": "stream",
     "text": [
      "Training Accuracy: 0.67\n",
      "Validation Accuracy: 0.65\n"
     ]
    }
   ],
   "source": [
    "#predictions, can be class labels or probabilities!\n",
    "yhat_train_prob = nnmodel.predict(np.array(X_train_full))\n",
    "yhat_train_disc = yhat_train_prob.argmax(axis=1) + 1\n",
    "\n",
    "yhat_val_prob = nnmodel.predict(np.array(X_valid_full))\n",
    "yhat_val_disc = yhat_val_prob.argmax(axis=1) + 1\n",
    "\n",
    "sns.jointplot(yhat_train_disc, y_train_full, kind=\"kde\")\n",
    "plt.title(\"Training\")\n",
    "plt.show()\n",
    "\n",
    "sns.jointplot(yhat_val_disc, y_valid_full, kind=\"kde\")\n",
    "plt.title(\"Validation Data\")\n",
    "plt.show()\n",
    "\n",
    "print (\"Training Accuracy: {:.2f}\".format(accuracy_score(yhat_train_disc, y_train_full)))\n",
    "print (\"Validation Accuracy: {:.2f}\".format(accuracy_score(yhat_val_disc, y_valid_full)))\n"
   ]
  },
  {
   "cell_type": "code",
   "execution_count": 7,
   "metadata": {},
   "outputs": [
    {
     "data": {
      "image/png": "[encoded data removed]",
      "text/plain": [
       "<matplotlib.figure.Figure at 0x212c14c8be0>"
      ]
     },
     "metadata": {},
     "output_type": "display_data"
    }
   ],
   "source": [
    "# we can also plot the history of the epochs along with the error metric (here, accuracy)\n",
    "#compute some metrics\n",
    "\n",
    "plt.plot(history.history['categorical_accuracy'])\n",
    "plt.title('model accuracy')\n",
    "plt.ylabel('accuracy')\n",
    "plt.xlabel('epoch')\n",
    "plt.legend(['train'], loc='upper left')\n",
    "plt.show()"
   ]
  },
  {
   "cell_type": "markdown",
   "metadata": {},
   "source": [
    "## 5. Higher-Level Functions\n",
    "The previous functions all show to do the analysis step by step, however, there are also a few convencience functions that might be useful for cross-validation."
   ]
  },
  {
   "cell_type": "code",
   "execution_count": 8,
   "metadata": {},
   "outputs": [
    {
     "name": "stdout",
     "output_type": "stream",
     "text": [
      "Training Size: (44472, 216)\n",
      "Validation Size: (14825, 216)\n",
      "Overlapping indices:\n",
      "[]\n",
      "Overlapping Sequences:\n",
      "[]\n",
      "Epoch 1/25\n",
      "35577/35577 [==============================] - 1s 18us/step - loss: 2.8233 - categorical_accuracy: 0.1632 - acc: 0.1632\n",
      "Epoch 2/25\n",
      "35577/35577 [==============================] - 0s 13us/step - loss: 2.0051 - categorical_accuracy: 0.3667 - acc: 0.3667\n",
      "Epoch 3/25\n",
      "35577/35577 [==============================] - 0s 14us/step - loss: 1.7618 - categorical_accuracy: 0.4434 - acc: 0.4434\n",
      "Epoch 4/25\n",
      "35577/35577 [==============================] - 1s 14us/step - loss: 1.6194 - categorical_accuracy: 0.4969 - acc: 0.4969\n",
      "Epoch 5/25\n",
      "35577/35577 [==============================] - 0s 13us/step - loss: 1.5253 - categorical_accuracy: 0.5266 - acc: 0.5266\n",
      "Epoch 6/25\n",
      "35577/35577 [==============================] - 0s 13us/step - loss: 1.4540 - categorical_accuracy: 0.5527 - acc: 0.5527\n",
      "Epoch 7/25\n",
      "35577/35577 [==============================] - 0s 14us/step - loss: 1.4132 - categorical_accuracy: 0.5624 - acc: 0.5624\n",
      "Epoch 8/25\n",
      "35577/35577 [==============================] - 0s 13us/step - loss: 1.3769 - categorical_accuracy: 0.5767 - acc: 0.5767\n",
      "Epoch 9/25\n",
      "35577/35577 [==============================] - 0s 13us/step - loss: 1.3531 - categorical_accuracy: 0.5807 - acc: 0.5807\n",
      "Epoch 10/25\n",
      "35577/35577 [==============================] - 0s 13us/step - loss: 1.3289 - categorical_accuracy: 0.5908 - acc: 0.5908\n",
      "Epoch 11/25\n",
      "35577/35577 [==============================] - 0s 13us/step - loss: 1.2992 - categorical_accuracy: 0.6022 - acc: 0.6022\n",
      "Epoch 12/25\n",
      "35577/35577 [==============================] - 0s 13us/step - loss: 1.2810 - categorical_accuracy: 0.6074 - acc: 0.6074\n",
      "Epoch 13/25\n",
      "35577/35577 [==============================] - 0s 13us/step - loss: 1.2732 - categorical_accuracy: 0.6060 - acc: 0.6060\n",
      "Epoch 14/25\n",
      "35577/35577 [==============================] - 1s 14us/step - loss: 1.2590 - categorical_accuracy: 0.6090 - acc: 0.6090\n",
      "Epoch 15/25\n",
      "35577/35577 [==============================] - 0s 14us/step - loss: 1.2402 - categorical_accuracy: 0.6223 - acc: 0.6223\n",
      "Epoch 16/25\n",
      "35577/35577 [==============================] - 0s 13us/step - loss: 1.2372 - categorical_accuracy: 0.6152 - acc: 0.6152\n",
      "Epoch 17/25\n",
      "35577/35577 [==============================] - 0s 13us/step - loss: 1.2302 - categorical_accuracy: 0.6189 - acc: 0.6189\n",
      "Epoch 18/25\n",
      "35577/35577 [==============================] - 0s 13us/step - loss: 1.2180 - categorical_accuracy: 0.6252 - acc: 0.6252\n",
      "Epoch 19/25\n",
      "35577/35577 [==============================] - 0s 13us/step - loss: 1.2052 - categorical_accuracy: 0.6325 - acc: 0.6325\n",
      "Epoch 20/25\n",
      "35577/35577 [==============================] - 0s 13us/step - loss: 1.1980 - categorical_accuracy: 0.6349 - acc: 0.6349\n",
      "Epoch 21/25\n",
      "35577/35577 [==============================] - 0s 13us/step - loss: 1.1850 - categorical_accuracy: 0.6408 - acc: 0.6408\n",
      "Epoch 22/25\n",
      "35577/35577 [==============================] - 0s 13us/step - loss: 1.1840 - categorical_accuracy: 0.6406 - acc: 0.6406\n",
      "Epoch 23/25\n",
      "35577/35577 [==============================] - 0s 13us/step - loss: 1.1772 - categorical_accuracy: 0.6408 - acc: 0.6408\n",
      "Epoch 24/25\n",
      "35577/35577 [==============================] - 0s 13us/step - loss: 1.1760 - categorical_accuracy: 0.6431 - acc: 0.6431\n",
      "Epoch 25/25\n",
      "35577/35577 [==============================] - 1s 14us/step - loss: 1.1730 - categorical_accuracy: 0.6424 - acc: 0.6424\n"
     ]
    },
    {
     "name": "stderr",
     "output_type": "stream",
     "text": [
      "C:\\ProgramData\\Anaconda3\\lib\\site-packages\\sklearn\\metrics\\classification.py:1135: UndefinedMetricWarning: F-score is ill-defined and being set to 0.0 in labels with no predicted samples.\n",
      "  'precision', 'predicted', average, warn_for)\n"
     ]
    },
    {
     "name": "stdout",
     "output_type": "stream",
     "text": [
      "Epoch 1/25\n",
      "35577/35577 [==============================] - 1s 18us/step - loss: 2.8127 - categorical_accuracy: 0.1659 - acc: 0.1659\n",
      "Epoch 2/25\n",
      "35577/35577 [==============================] - 0s 13us/step - loss: 2.0447 - categorical_accuracy: 0.3480 - acc: 0.3480\n",
      "Epoch 3/25\n",
      "35577/35577 [==============================] - 0s 13us/step - loss: 1.8122 - categorical_accuracy: 0.4183 - acc: 0.4183\n",
      "Epoch 4/25\n",
      "35577/35577 [==============================] - 0s 13us/step - loss: 1.6623 - categorical_accuracy: 0.4691 - acc: 0.4691\n",
      "Epoch 5/25\n",
      "35577/35577 [==============================] - 0s 13us/step - loss: 1.5748 - categorical_accuracy: 0.5070 - acc: 0.5070\n",
      "Epoch 6/25\n",
      "35577/35577 [==============================] - 0s 13us/step - loss: 1.5078 - categorical_accuracy: 0.5328 - acc: 0.5328\n",
      "Epoch 7/25\n",
      "35577/35577 [==============================] - 0s 14us/step - loss: 1.4592 - categorical_accuracy: 0.5537 - acc: 0.5537\n",
      "Epoch 8/25\n",
      "35577/35577 [==============================] - 1s 15us/step - loss: 1.4253 - categorical_accuracy: 0.5645 - acc: 0.5645\n",
      "Epoch 9/25\n",
      "35577/35577 [==============================] - 0s 14us/step - loss: 1.3995 - categorical_accuracy: 0.5718 - acc: 0.5718\n",
      "Epoch 10/25\n",
      "35577/35577 [==============================] - 0s 13us/step - loss: 1.3785 - categorical_accuracy: 0.5816 - acc: 0.5816\n",
      "Epoch 11/25\n",
      "35577/35577 [==============================] - 0s 13us/step - loss: 1.3506 - categorical_accuracy: 0.5891 - acc: 0.5891\n",
      "Epoch 12/25\n",
      "35577/35577 [==============================] - 0s 13us/step - loss: 1.3337 - categorical_accuracy: 0.5929 - acc: 0.5929\n",
      "Epoch 13/25\n",
      "35577/35577 [==============================] - 0s 13us/step - loss: 1.3142 - categorical_accuracy: 0.6031 - acc: 0.6031\n",
      "Epoch 14/25\n",
      "35577/35577 [==============================] - 0s 13us/step - loss: 1.3000 - categorical_accuracy: 0.6056 - acc: 0.6056\n",
      "Epoch 15/25\n",
      "35577/35577 [==============================] - 0s 13us/step - loss: 1.2843 - categorical_accuracy: 0.6124 - acc: 0.6124\n",
      "Epoch 16/25\n",
      "35577/35577 [==============================] - 0s 13us/step - loss: 1.2756 - categorical_accuracy: 0.6164 - acc: 0.6164\n",
      "Epoch 17/25\n",
      "35577/35577 [==============================] - 0s 13us/step - loss: 1.2650 - categorical_accuracy: 0.6177 - acc: 0.6177\n",
      "Epoch 18/25\n",
      "35577/35577 [==============================] - 1s 14us/step - loss: 1.2631 - categorical_accuracy: 0.6192 - acc: 0.6192\n",
      "Epoch 19/25\n",
      "35577/35577 [==============================] - 1s 14us/step - loss: 1.2419 - categorical_accuracy: 0.6257 - acc: 0.6257\n",
      "Epoch 20/25\n",
      "35577/35577 [==============================] - 0s 13us/step - loss: 1.2400 - categorical_accuracy: 0.6259 - acc: 0.6259\n",
      "Epoch 21/25\n",
      "35577/35577 [==============================] - 0s 13us/step - loss: 1.2304 - categorical_accuracy: 0.6289 - acc: 0.6289\n",
      "Epoch 22/25\n",
      "35577/35577 [==============================] - 0s 13us/step - loss: 1.2237 - categorical_accuracy: 0.6296 - acc: 0.6296\n",
      "Epoch 23/25\n",
      "35577/35577 [==============================] - 0s 13us/step - loss: 1.2189 - categorical_accuracy: 0.6301 - acc: 0.6301\n",
      "Epoch 24/25\n",
      "35577/35577 [==============================] - 0s 13us/step - loss: 1.2047 - categorical_accuracy: 0.6393 - acc: 0.6393\n",
      "Epoch 25/25\n",
      "35577/35577 [==============================] - 0s 13us/step - loss: 1.1998 - categorical_accuracy: 0.6368 - acc: 0.6368\n",
      "Epoch 1/25\n",
      "35578/35578 [==============================] - 1s 21us/step - loss: 2.8380 - categorical_accuracy: 0.1666 - acc: 0.1666 0s - loss: 3.0574 - categorical_accuracy: 0.1226 - acc: \n",
      "Epoch 2/25\n",
      "35578/35578 [==============================] - 0s 13us/step - loss: 2.0299 - categorical_accuracy: 0.3517 - acc: 0.3517\n",
      "Epoch 3/25\n",
      "35578/35578 [==============================] - 0s 13us/step - loss: 1.7916 - categorical_accuracy: 0.4352 - acc: 0.4352\n",
      "Epoch 4/25\n",
      "35578/35578 [==============================] - 0s 13us/step - loss: 1.6549 - categorical_accuracy: 0.4853 - acc: 0.4853\n",
      "Epoch 5/25\n",
      "35578/35578 [==============================] - 0s 13us/step - loss: 1.5621 - categorical_accuracy: 0.5278 - acc: 0.5278\n",
      "Epoch 6/25\n",
      "35578/35578 [==============================] - 0s 13us/step - loss: 1.4940 - categorical_accuracy: 0.5447 - acc: 0.5447\n",
      "Epoch 7/25\n",
      "35578/35578 [==============================] - 0s 13us/step - loss: 1.4327 - categorical_accuracy: 0.5605 - acc: 0.5605\n",
      "Epoch 8/25\n",
      "35578/35578 [==============================] - 0s 13us/step - loss: 1.3804 - categorical_accuracy: 0.5772 - acc: 0.5772\n",
      "Epoch 9/25\n",
      "35578/35578 [==============================] - 0s 14us/step - loss: 1.3363 - categorical_accuracy: 0.5877 - acc: 0.5877\n",
      "Epoch 10/25\n",
      "35578/35578 [==============================] - 0s 13us/step - loss: 1.3078 - categorical_accuracy: 0.5970 - acc: 0.5970\n",
      "Epoch 11/25\n",
      "35578/35578 [==============================] - 1s 14us/step - loss: 1.2832 - categorical_accuracy: 0.6048 - acc: 0.6048\n",
      "Epoch 12/25\n",
      "35578/35578 [==============================] - 0s 14us/step - loss: 1.2670 - categorical_accuracy: 0.6112 - acc: 0.6112\n",
      "Epoch 13/25\n",
      "35578/35578 [==============================] - 0s 13us/step - loss: 1.2493 - categorical_accuracy: 0.6156 - acc: 0.6156\n",
      "Epoch 14/25\n",
      "35578/35578 [==============================] - 0s 13us/step - loss: 1.2340 - categorical_accuracy: 0.6182 - acc: 0.6182\n",
      "Epoch 15/25\n",
      "35578/35578 [==============================] - 0s 13us/step - loss: 1.2173 - categorical_accuracy: 0.6281 - acc: 0.6281\n",
      "Epoch 16/25\n",
      "35578/35578 [==============================] - 0s 13us/step - loss: 1.2072 - categorical_accuracy: 0.6319 - acc: 0.6319\n",
      "Epoch 17/25\n",
      "35578/35578 [==============================] - 0s 13us/step - loss: 1.2063 - categorical_accuracy: 0.6298 - acc: 0.6298\n",
      "Epoch 18/25\n",
      "35578/35578 [==============================] - 0s 13us/step - loss: 1.1904 - categorical_accuracy: 0.6378 - acc: 0.6378\n",
      "Epoch 19/25\n",
      "35578/35578 [==============================] - 0s 13us/step - loss: 1.1802 - categorical_accuracy: 0.6387 - acc: 0.6387\n",
      "Epoch 20/25\n",
      "35578/35578 [==============================] - 0s 13us/step - loss: 1.1760 - categorical_accuracy: 0.6397 - acc: 0.6397\n",
      "Epoch 21/25\n",
      "35578/35578 [==============================] - 0s 14us/step - loss: 1.1728 - categorical_accuracy: 0.6454 - acc: 0.6454\n",
      "Epoch 22/25\n",
      "35578/35578 [==============================] - 1s 14us/step - loss: 1.1679 - categorical_accuracy: 0.6441 - acc: 0.6441\n",
      "Epoch 23/25\n",
      "35578/35578 [==============================] - 0s 13us/step - loss: 1.1587 - categorical_accuracy: 0.6445 - acc: 0.6445\n",
      "Epoch 24/25\n",
      "35578/35578 [==============================] - 0s 13us/step - loss: 1.1516 - categorical_accuracy: 0.6509 - acc: 0.6509\n",
      "Epoch 25/25\n",
      "35578/35578 [==============================] - 0s 13us/step - loss: 1.1448 - categorical_accuracy: 0.6525 - acc: 0.6525\n",
      "Epoch 1/25\n",
      "35578/35578 [==============================] - 1s 21us/step - loss: 2.8379 - categorical_accuracy: 0.1556 - acc: 0.1556\n",
      "Epoch 2/25\n",
      "35578/35578 [==============================] - 0s 13us/step - loss: 2.0177 - categorical_accuracy: 0.3654 - acc: 0.3654\n",
      "Epoch 3/25\n",
      "35578/35578 [==============================] - 0s 14us/step - loss: 1.7544 - categorical_accuracy: 0.4441 - acc: 0.4441\n",
      "Epoch 4/25\n",
      "35578/35578 [==============================] - 1s 14us/step - loss: 1.6067 - categorical_accuracy: 0.4899 - acc: 0.4899\n",
      "Epoch 5/25\n",
      "35578/35578 [==============================] - 0s 14us/step - loss: 1.5068 - categorical_accuracy: 0.5261 - acc: 0.5261\n",
      "Epoch 6/25\n",
      "35578/35578 [==============================] - 0s 13us/step - loss: 1.4398 - categorical_accuracy: 0.5531 - acc: 0.5531\n",
      "Epoch 7/25\n",
      "35578/35578 [==============================] - 0s 13us/step - loss: 1.3953 - categorical_accuracy: 0.5685 - acc: 0.5685\n",
      "Epoch 8/25\n",
      "35578/35578 [==============================] - 0s 13us/step - loss: 1.3540 - categorical_accuracy: 0.5870 - acc: 0.5870\n",
      "Epoch 9/25\n",
      "35578/35578 [==============================] - 0s 13us/step - loss: 1.3320 - categorical_accuracy: 0.5888 - acc: 0.5888\n",
      "Epoch 10/25\n",
      "35578/35578 [==============================] - 0s 13us/step - loss: 1.2957 - categorical_accuracy: 0.6080 - acc: 0.6080\n",
      "Epoch 11/25\n",
      "35578/35578 [==============================] - 0s 13us/step - loss: 1.2824 - categorical_accuracy: 0.6079 - acc: 0.6079\n",
      "Epoch 12/25\n"
     ]
    },
    {
     "name": "stdout",
     "output_type": "stream",
     "text": [
      "35578/35578 [==============================] - 0s 13us/step - loss: 1.2648 - categorical_accuracy: 0.6118 - acc: 0.6118\n",
      "Epoch 13/25\n",
      "35578/35578 [==============================] - 0s 13us/step - loss: 1.2462 - categorical_accuracy: 0.6186 - acc: 0.6186\n",
      "Epoch 14/25\n",
      "35578/35578 [==============================] - 1s 14us/step - loss: 1.2418 - categorical_accuracy: 0.6150 - acc: 0.6150\n",
      "Epoch 15/25\n",
      "35578/35578 [==============================] - 0s 14us/step - loss: 1.2251 - categorical_accuracy: 0.6258 - acc: 0.6258 0s - loss: 1.2166 - categorical_accuracy: 0.6270 - a\n",
      "Epoch 16/25\n",
      "35578/35578 [==============================] - 0s 13us/step - loss: 1.2066 - categorical_accuracy: 0.6308 - acc: 0.6308\n",
      "Epoch 17/25\n",
      "35578/35578 [==============================] - 0s 13us/step - loss: 1.2017 - categorical_accuracy: 0.6344 - acc: 0.6344\n",
      "Epoch 18/25\n",
      "35578/35578 [==============================] - 0s 13us/step - loss: 1.1964 - categorical_accuracy: 0.6325 - acc: 0.6325\n",
      "Epoch 19/25\n",
      "35578/35578 [==============================] - 0s 13us/step - loss: 1.1841 - categorical_accuracy: 0.6372 - acc: 0.6372\n",
      "Epoch 20/25\n",
      "35578/35578 [==============================] - 0s 13us/step - loss: 1.1697 - categorical_accuracy: 0.6465 - acc: 0.6465\n",
      "Epoch 21/25\n",
      "35578/35578 [==============================] - 0s 14us/step - loss: 1.1746 - categorical_accuracy: 0.6409 - acc: 0.6409\n",
      "Epoch 22/25\n",
      "35578/35578 [==============================] - 0s 14us/step - loss: 1.1655 - categorical_accuracy: 0.6428 - acc: 0.6428\n",
      "Epoch 23/25\n",
      "35578/35578 [==============================] - 0s 14us/step - loss: 1.1602 - categorical_accuracy: 0.6465 - acc: 0.6465\n",
      "Epoch 24/25\n",
      "35578/35578 [==============================] - 0s 14us/step - loss: 1.1448 - categorical_accuracy: 0.6537 - acc: 0.6537\n",
      "Epoch 25/25\n",
      "35578/35578 [==============================] - 1s 14us/step - loss: 1.1478 - categorical_accuracy: 0.6481 - acc: 0.6481\n",
      "Epoch 1/25\n",
      "35578/35578 [==============================] - 1s 21us/step - loss: 2.8460 - categorical_accuracy: 0.1648 - acc: 0.1648\n",
      "Epoch 2/25\n",
      "35578/35578 [==============================] - 0s 13us/step - loss: 2.0320 - categorical_accuracy: 0.3590 - acc: 0.3590\n",
      "Epoch 3/25\n",
      "35578/35578 [==============================] - 0s 13us/step - loss: 1.7891 - categorical_accuracy: 0.4299 - acc: 0.4299\n",
      "Epoch 4/25\n",
      "35578/35578 [==============================] - 0s 14us/step - loss: 1.6450 - categorical_accuracy: 0.4855 - acc: 0.4855\n",
      "Epoch 5/25\n",
      "35578/35578 [==============================] - 0s 13us/step - loss: 1.5525 - categorical_accuracy: 0.5193 - acc: 0.5193\n",
      "Epoch 6/25\n",
      "35578/35578 [==============================] - 0s 13us/step - loss: 1.4864 - categorical_accuracy: 0.5484 - acc: 0.5484\n",
      "Epoch 7/25\n",
      "35578/35578 [==============================] - 1s 15us/step - loss: 1.4309 - categorical_accuracy: 0.5687 - acc: 0.5687\n",
      "Epoch 8/25\n",
      "35578/35578 [==============================] - 0s 14us/step - loss: 1.3925 - categorical_accuracy: 0.5747 - acc: 0.5747\n",
      "Epoch 9/25\n",
      "35578/35578 [==============================] - 0s 13us/step - loss: 1.3683 - categorical_accuracy: 0.5886 - acc: 0.5886\n",
      "Epoch 10/25\n",
      "35578/35578 [==============================] - 0s 13us/step - loss: 1.3413 - categorical_accuracy: 0.5972 - acc: 0.5972\n",
      "Epoch 11/25\n",
      "35578/35578 [==============================] - 0s 13us/step - loss: 1.3222 - categorical_accuracy: 0.5980 - acc: 0.5980\n",
      "Epoch 12/25\n",
      "35578/35578 [==============================] - 0s 13us/step - loss: 1.2999 - categorical_accuracy: 0.6099 - acc: 0.6099\n",
      "Epoch 13/25\n",
      "35578/35578 [==============================] - 0s 13us/step - loss: 1.2797 - categorical_accuracy: 0.6199 - acc: 0.6199\n",
      "Epoch 14/25\n",
      "35578/35578 [==============================] - 0s 13us/step - loss: 1.2634 - categorical_accuracy: 0.6272 - acc: 0.6272\n",
      "Epoch 15/25\n",
      "35578/35578 [==============================] - 0s 14us/step - loss: 1.2512 - categorical_accuracy: 0.6297 - acc: 0.6297\n",
      "Epoch 16/25\n",
      "35578/35578 [==============================] - 0s 13us/step - loss: 1.2401 - categorical_accuracy: 0.6282 - acc: 0.6282\n",
      "Epoch 17/25\n",
      "35578/35578 [==============================] - 1s 14us/step - loss: 1.2409 - categorical_accuracy: 0.6259 - acc: 0.6259\n",
      "Epoch 18/25\n",
      "35578/35578 [==============================] - 1s 14us/step - loss: 1.2193 - categorical_accuracy: 0.6391 - acc: 0.6391\n",
      "Epoch 19/25\n",
      "35578/35578 [==============================] - 0s 13us/step - loss: 1.2122 - categorical_accuracy: 0.6404 - acc: 0.6404\n",
      "Epoch 20/25\n",
      "35578/35578 [==============================] - 0s 13us/step - loss: 1.2056 - categorical_accuracy: 0.6402 - acc: 0.6402\n",
      "Epoch 21/25\n",
      "35578/35578 [==============================] - 0s 13us/step - loss: 1.2012 - categorical_accuracy: 0.6410 - acc: 0.6410\n",
      "Epoch 22/25\n",
      "35578/35578 [==============================] - 0s 14us/step - loss: 1.1915 - categorical_accuracy: 0.6428 - acc: 0.6428\n",
      "Epoch 23/25\n",
      "35578/35578 [==============================] - 0s 13us/step - loss: 1.1860 - categorical_accuracy: 0.6459 - acc: 0.6459\n",
      "Epoch 24/25\n",
      "35578/35578 [==============================] - 0s 13us/step - loss: 1.1757 - categorical_accuracy: 0.6505 - acc: 0.6505\n",
      "Epoch 25/25\n",
      "35578/35578 [==============================] - 0s 13us/step - loss: 1.1757 - categorical_accuracy: 0.6479 - acc: 0.6479\n"
     ]
    },
    {
     "ename": "NameError",
     "evalue": "name 'traindf' is not defined",
     "output_type": "error",
     "traceback": [
      "\u001b[1;31m---------------------------------------------------------------------------\u001b[0m",
      "\u001b[1;31mNameError\u001b[0m                                 Traceback (most recent call last)",
      "\u001b[1;32m<ipython-input-8-d15050851732>\u001b[0m in \u001b[0;36m<module>\u001b[1;34m()\u001b[0m\n\u001b[0;32m      7\u001b[0m \u001b[1;33m\u001b[0m\u001b[0m\n\u001b[0;32m      8\u001b[0m \u001b[1;31m#now train on all data and do the validation\u001b[0m\u001b[1;33m\u001b[0m\u001b[1;33m\u001b[0m\u001b[0m\n\u001b[1;32m----> 9\u001b[1;33m res_df, nnmodel, history =         LP.train_validation(traindf, valdf, epochs=25, \n\u001b[0m\u001b[0;32m     10\u001b[0m                          \u001b[0mbatch_size\u001b[0m\u001b[1;33m=\u001b[0m\u001b[1;36m256\u001b[0m\u001b[1;33m,\u001b[0m \u001b[0mplot\u001b[0m\u001b[1;33m=\u001b[0m\u001b[1;32mFalse\u001b[0m\u001b[1;33m,\u001b[0m\u001b[1;33m\u001b[0m\u001b[0m\n\u001b[0;32m     11\u001b[0m                          nn_args={})\n",
      "\u001b[1;31mNameError\u001b[0m: name 'traindf' is not defined"
     ]
    }
   ],
   "source": [
    "#cross-validation \n",
    "#uses the build in NN model, parameters can passed in a dictionary form\n",
    "CV_res = LP.cross_validation(train_df, valid_df, name=\"FNN\",\n",
    "                              nkfold=5, n_jobs=5, nn_args={\"act\":[\"swish\",\"swish\", \"swish\"]},\n",
    "                              use_joblib=False, epochs=25, \n",
    "                              batch_size=256)\n",
    "\n",
    "#now train on all data and do the validation\n",
    "res_df, nnmodel, history = \\\n",
    "        LP.train_validation(traindf, valdf, epochs=25, \n",
    "                         batch_size=256, plot=False,\n",
    "                         nn_args={})"
   ]
  },
  {
   "cell_type": "code",
   "execution_count": 9,
   "metadata": {},
   "outputs": [
    {
     "data": {
      "text/html": [
       "<div>\n",
       "<style scoped>\n",
       "    .dataframe tbody tr th:only-of-type {\n",
       "        vertical-align: middle;\n",
       "    }\n",
       "\n",
       "    .dataframe tbody tr th {\n",
       "        vertical-align: top;\n",
       "    }\n",
       "\n",
       "    .dataframe thead th {\n",
       "        text-align: right;\n",
       "    }\n",
       "</style>\n",
       "<table border=\"1\" class=\"dataframe\">\n",
       "  <thead>\n",
       "    <tr style=\"text-align: right;\">\n",
       "      <th></th>\n",
       "      <th>mean</th>\n",
       "      <th>sem</th>\n",
       "    </tr>\n",
       "    <tr>\n",
       "      <th>Method</th>\n",
       "      <th></th>\n",
       "      <th></th>\n",
       "    </tr>\n",
       "  </thead>\n",
       "  <tbody>\n",
       "    <tr>\n",
       "      <th>FNN_Test</th>\n",
       "      <td>0.634</td>\n",
       "      <td>0.003</td>\n",
       "    </tr>\n",
       "    <tr>\n",
       "      <th>FNN_Train</th>\n",
       "      <td>0.652</td>\n",
       "      <td>0.006</td>\n",
       "    </tr>\n",
       "  </tbody>\n",
       "</table>\n",
       "</div>"
      ],
      "text/plain": [
       "            mean    sem\n",
       "Method                 \n",
       "FNN_Test   0.634  0.003\n",
       "FNN_Train  0.652  0.006"
      ]
     },
     "execution_count": 9,
     "metadata": {},
     "output_type": "execute_result"
    }
   ],
   "source": [
    "#now print the results\n",
    "CV_res\n",
    "CV_res[\"Accuracy\"]"
   ]
  },
  {
   "cell_type": "code",
   "execution_count": 38,
   "metadata": {},
   "outputs": [
    {
     "data": {
      "text/html": [
       "<div>\n",
       "<style scoped>\n",
       "    .dataframe tbody tr th:only-of-type {\n",
       "        vertical-align: middle;\n",
       "    }\n",
       "\n",
       "    .dataframe tbody tr th {\n",
       "        vertical-align: top;\n",
       "    }\n",
       "\n",
       "    .dataframe thead th {\n",
       "        text-align: right;\n",
       "    }\n",
       "</style>\n",
       "<table border=\"1\" class=\"dataframe\">\n",
       "  <thead>\n",
       "    <tr style=\"text-align: right;\">\n",
       "      <th></th>\n",
       "      <th>MSA</th>\n",
       "      <th>MSE</th>\n",
       "      <th>R^2</th>\n",
       "      <th>F1 (weighted)</th>\n",
       "      <th>Accuracy</th>\n",
       "      <th>mean. dist</th>\n",
       "      <th>std. dist</th>\n",
       "      <th>AUC</th>\n",
       "      <th>0-off-pred</th>\n",
       "      <th>1-off-pred</th>\n",
       "      <th>2-off-pred</th>\n",
       "      <th>3-off-pred</th>\n",
       "      <th>5-off-pred</th>\n",
       "      <th>Correlation</th>\n",
       "      <th>Method</th>\n",
       "    </tr>\n",
       "  </thead>\n",
       "  <tbody>\n",
       "    <tr>\n",
       "      <th>0</th>\n",
       "      <td>0.839922</td>\n",
       "      <td>6.72578</td>\n",
       "      <td>0.893285</td>\n",
       "      <td>0.642814</td>\n",
       "      <td>0.657875</td>\n",
       "      <td>0.839922</td>\n",
       "      <td>2.45363</td>\n",
       "      <td>412.5</td>\n",
       "      <td>65.7875</td>\n",
       "      <td>91.1427</td>\n",
       "      <td>93.7961</td>\n",
       "      <td>94.9092</td>\n",
       "      <td>95.6287</td>\n",
       "      <td>0.947768</td>\n",
       "      <td>keras_Train</td>\n",
       "    </tr>\n",
       "    <tr>\n",
       "      <th>0</th>\n",
       "      <td>0.877369</td>\n",
       "      <td>7.08472</td>\n",
       "      <td>0.887733</td>\n",
       "      <td>0.627248</td>\n",
       "      <td>0.642293</td>\n",
       "      <td>0.877369</td>\n",
       "      <td>2.51296</td>\n",
       "      <td>400</td>\n",
       "      <td>64.2293</td>\n",
       "      <td>90.6779</td>\n",
       "      <td>93.6324</td>\n",
       "      <td>94.9005</td>\n",
       "      <td>95.5211</td>\n",
       "      <td>0.945212</td>\n",
       "      <td>keras_Valid</td>\n",
       "    </tr>\n",
       "  </tbody>\n",
       "</table>\n",
       "</div>"
      ],
      "text/plain": [
       "        MSA      MSE       R^2 F1 (weighted)  Accuracy mean. dist std. dist  \\\n",
       "0  0.839922  6.72578  0.893285      0.642814  0.657875   0.839922   2.45363   \n",
       "0  0.877369  7.08472  0.887733      0.627248  0.642293   0.877369   2.51296   \n",
       "\n",
       "     AUC 0-off-pred 1-off-pred 2-off-pred 3-off-pred 5-off-pred Correlation  \\\n",
       "0  412.5    65.7875    91.1427    93.7961    94.9092    95.6287    0.947768   \n",
       "0    400    64.2293    90.6779    93.6324    94.9005    95.5211    0.945212   \n",
       "\n",
       "        Method  \n",
       "0  keras_Train  \n",
       "0  keras_Valid  "
      ]
     },
     "execution_count": 38,
     "metadata": {},
     "output_type": "execute_result"
    }
   ],
   "source": [
    "res_df"
   ]
  },
  {
   "cell_type": "code",
   "execution_count": 40,
   "metadata": {
    "scrolled": true
   },
   "outputs": [
    {
     "data": {
      "image/png": "[encoded data removed]",
      "text/plain": [
       "<matplotlib.figure.Figure at 0x20f5cf26198>"
      ]
     },
     "metadata": {},
     "output_type": "display_data"
    }
   ],
   "source": [
    "plt.plot(history.history['acc'])\n",
    "plt.title('model accuracy')\n",
    "plt.ylabel('accuracy')\n",
    "plt.xlabel('epoch')\n",
    "plt.legend(['train'], loc='upper left')\n",
    "plt.show()"
   ]
  },
  {
   "cell_type": "code",
   "execution_count": null,
   "metadata": {},
   "outputs": [],
   "source": [
    "featur"
   ]
  }
 ],
 "metadata": {
  "kernelspec": {
   "display_name": "Python 3",
   "language": "python",
   "name": "python3"
  },
  "language_info": {
   "codemirror_mode": {
    "name": "ipython",
    "version": 3
   },
   "file_extension": ".py",
   "mimetype": "text/x-python",
   "name": "python",
   "nbconvert_exporter": "python",
   "pygments_lexer": "ipython3",
   "version": "3.6.4"
  }
 },
 "nbformat": 4,
 "nbformat_minor": 2
}
